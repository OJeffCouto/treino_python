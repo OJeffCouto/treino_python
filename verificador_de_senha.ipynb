{
 "cells": [
  {
   "cell_type": "code",
   "execution_count": 3,
   "metadata": {},
   "outputs": [
    {
     "name": "stdout",
     "output_type": "stream",
     "text": [
      "Requisitos\n",
      " Não usada          o\n",
      " Tamanho Mínimo:       o\n",
      " Caracteres Especiais: o\n",
      " Contém Números:       o\n",
      "Reqeusitos não cumpridos\n"
     ]
    },
    {
     "ename": "KeyboardInterrupt",
     "evalue": "Interrupted by user",
     "output_type": "error",
     "traceback": [
      "\u001b[1;31m---------------------------------------------------------------------------\u001b[0m",
      "\u001b[1;31mKeyboardInterrupt\u001b[0m                         Traceback (most recent call last)",
      "Cell \u001b[1;32mIn[3], line 45\u001b[0m\n\u001b[0;32m     43\u001b[0m \u001b[39mwhile\u001b[39;00m ver_f(senha_nova,senha_antiga) \u001b[39m!=\u001b[39m [\u001b[39mTrue\u001b[39;00m,\u001b[39mTrue\u001b[39;00m,\u001b[39mTrue\u001b[39;00m,\u001b[39mTrue\u001b[39;00m]: \n\u001b[0;32m     44\u001b[0m     \u001b[39mprint\u001b[39m(\u001b[39m'\u001b[39m\u001b[39mReqeusitos não cumpridos\u001b[39m\u001b[39m'\u001b[39m)\n\u001b[1;32m---> 45\u001b[0m     senha_nova \u001b[39m=\u001b[39m \u001b[39minput\u001b[39;49m(\u001b[39m'\u001b[39;49m\u001b[39mNova Senha: \u001b[39;49m\u001b[39m'\u001b[39;49m)\n\u001b[0;32m     47\u001b[0m \u001b[39mprint\u001b[39m(\u001b[39m'\u001b[39m\u001b[39mSenha Redefinida\u001b[39m\u001b[39m'\u001b[39m)\n",
      "File \u001b[1;32mc:\\Users\\JEFFC\\Desktop\\VS CODE\\venv\\Lib\\site-packages\\ipykernel\\kernelbase.py:1191\u001b[0m, in \u001b[0;36mKernel.raw_input\u001b[1;34m(self, prompt)\u001b[0m\n\u001b[0;32m   1189\u001b[0m     msg \u001b[39m=\u001b[39m \u001b[39m\"\u001b[39m\u001b[39mraw_input was called, but this frontend does not support input requests.\u001b[39m\u001b[39m\"\u001b[39m\n\u001b[0;32m   1190\u001b[0m     \u001b[39mraise\u001b[39;00m StdinNotImplementedError(msg)\n\u001b[1;32m-> 1191\u001b[0m \u001b[39mreturn\u001b[39;00m \u001b[39mself\u001b[39;49m\u001b[39m.\u001b[39;49m_input_request(\n\u001b[0;32m   1192\u001b[0m     \u001b[39mstr\u001b[39;49m(prompt),\n\u001b[0;32m   1193\u001b[0m     \u001b[39mself\u001b[39;49m\u001b[39m.\u001b[39;49m_parent_ident[\u001b[39m\"\u001b[39;49m\u001b[39mshell\u001b[39;49m\u001b[39m\"\u001b[39;49m],\n\u001b[0;32m   1194\u001b[0m     \u001b[39mself\u001b[39;49m\u001b[39m.\u001b[39;49mget_parent(\u001b[39m\"\u001b[39;49m\u001b[39mshell\u001b[39;49m\u001b[39m\"\u001b[39;49m),\n\u001b[0;32m   1195\u001b[0m     password\u001b[39m=\u001b[39;49m\u001b[39mFalse\u001b[39;49;00m,\n\u001b[0;32m   1196\u001b[0m )\n",
      "File \u001b[1;32mc:\\Users\\JEFFC\\Desktop\\VS CODE\\venv\\Lib\\site-packages\\ipykernel\\kernelbase.py:1234\u001b[0m, in \u001b[0;36mKernel._input_request\u001b[1;34m(self, prompt, ident, parent, password)\u001b[0m\n\u001b[0;32m   1231\u001b[0m \u001b[39mexcept\u001b[39;00m \u001b[39mKeyboardInterrupt\u001b[39;00m:\n\u001b[0;32m   1232\u001b[0m     \u001b[39m# re-raise KeyboardInterrupt, to truncate traceback\u001b[39;00m\n\u001b[0;32m   1233\u001b[0m     msg \u001b[39m=\u001b[39m \u001b[39m\"\u001b[39m\u001b[39mInterrupted by user\u001b[39m\u001b[39m\"\u001b[39m\n\u001b[1;32m-> 1234\u001b[0m     \u001b[39mraise\u001b[39;00m \u001b[39mKeyboardInterrupt\u001b[39;00m(msg) \u001b[39mfrom\u001b[39;00m \u001b[39mNone\u001b[39;00m\n\u001b[0;32m   1235\u001b[0m \u001b[39mexcept\u001b[39;00m \u001b[39mException\u001b[39;00m:\n\u001b[0;32m   1236\u001b[0m     \u001b[39mself\u001b[39m\u001b[39m.\u001b[39mlog\u001b[39m.\u001b[39mwarning(\u001b[39m\"\u001b[39m\u001b[39mInvalid Message:\u001b[39m\u001b[39m\"\u001b[39m, exc_info\u001b[39m=\u001b[39m\u001b[39mTrue\u001b[39;00m)\n",
      "\u001b[1;31mKeyboardInterrupt\u001b[0m: Interrupted by user"
     ]
    }
   ],
   "source": [
    "# Em desenvolvimento\n",
    "\n",
    "import re\n",
    "\n",
    "def qnt_carac(x): \n",
    "    t = len(x)\n",
    "    if t >= 8: \n",
    "        return True\n",
    "    if t < 8: \n",
    "        return False\n",
    "\n",
    "\n",
    "def dig_num(x):\n",
    "    veri = any(chr.isdigit() for chr in x)\n",
    "\n",
    "    return veri\n",
    "\n",
    "\n",
    "def carc_esp(x): \n",
    "    m = re.search(r'^(?=.*[@!#$%^&*()/\\\\_\\-])', x)\n",
    "    if m:\n",
    "        return True\n",
    "    else:\n",
    "        return False \n",
    "\n",
    "def nova_antiga(x,y):\n",
    "    if x == y: \n",
    "        return False\n",
    "    else: \n",
    "        return True\n",
    "\n",
    "def ver_f(x,y):\n",
    "    carc = 'x' if carc_esp(x) == False else 'o'\n",
    "    qnt = 'x' if qnt_carac(x) == False else 'o'\n",
    "    num = 'x' if dig_num(x) == False else 'o'\n",
    "    igual = 'x' if nova_antiga(x,y) == False else 'o'\n",
    "    v = print(f'Requisitos\\n Não usada          {igual}\\n Tamanho Mínimo:       {qnt}\\n Caracteres Especiais: {carc}\\n Contém Números:       {num}') \n",
    "    j = [carc,qnt,num,igual]\n",
    "    return j and v    \n",
    "\n",
    "senha_antiga = 'senha_antiga0'\n",
    "\n",
    "senha_nova = input('Nova Senha: ')\n",
    "\n",
    "teste = ver_f(senha_nova,senha_antiga)\n",
    "\n",
    "while  != [True,True,True,True]: \n",
    "    print('Reqeusitos não cumpridos')\n",
    "    senha_nova = input('Nova Senha: ')\n",
    "\n",
    "print('Senha Redefinida')\n"
   ]
  }
 ],
 "metadata": {
  "kernelspec": {
   "display_name": "venv",
   "language": "python",
   "name": "python3"
  },
  "language_info": {
   "codemirror_mode": {
    "name": "ipython",
    "version": 3
   },
   "file_extension": ".py",
   "mimetype": "text/x-python",
   "name": "python",
   "nbconvert_exporter": "python",
   "pygments_lexer": "ipython3",
   "version": "3.11.4"
  },
  "orig_nbformat": 4
 },
 "nbformat": 4,
 "nbformat_minor": 2
}
